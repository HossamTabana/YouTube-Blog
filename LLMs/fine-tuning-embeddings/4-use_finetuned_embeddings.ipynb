{
 "cells": [
  {
   "cell_type": "markdown",
   "id": "4734a604-73a2-4f51-9383-eb7312989151",
   "metadata": {},
   "source": [
    "# Use Fine-tuned Model\n",
    "\n",
    "Code authored by: Shaw Talebi\n",
    "\n",
    "Video link (coming soon!) | Blog link (coming soon!) <br>\n",
    "[Dataset](https://huggingface.co/datasets/shawhin/ai-job-embedding-finetuning) | [Fine-tuned Model](https://huggingface.co/shawhin/distilroberta-ai-job-embeddings) <br>\n",
    "Based on example from [here](https://sbert.net/docs/sentence_transformer/training_overview.html#trainer)"
   ]
  },
  {
   "cell_type": "markdown",
   "id": "521f48ed-9bdf-476d-9995-2eab9398ffd0",
   "metadata": {},
   "source": [
    "### imports"
   ]
  },
  {
   "cell_type": "code",
   "execution_count": 1,
   "id": "73ac9cee-913d-420d-8cfb-df8a663db457",
   "metadata": {},
   "outputs": [],
   "source": [
    "from sentence_transformers import SentenceTransformer\n",
    "from datasets import load_dataset\n",
    "import numpy as np"
   ]
  },
  {
   "cell_type": "markdown",
   "id": "5a460324-33cc-448d-99af-fa8db865fbb9",
   "metadata": {},
   "source": [
    "### load model"
   ]
  },
  {
   "cell_type": "code",
   "execution_count": 2,
   "id": "21e56316-ee49-4076-be55-dbbe0259620f",
   "metadata": {},
   "outputs": [],
   "source": [
    "model = SentenceTransformer(\"shawhin/distilroberta-ai-job-embeddings\")"
   ]
  },
  {
   "cell_type": "markdown",
   "id": "37a3221b-3a4f-459b-8f1e-9ffc48a4fe2a",
   "metadata": {},
   "source": [
    "### load data"
   ]
  },
  {
   "cell_type": "code",
   "execution_count": 3,
   "id": "2fa3a678-89c1-48bb-82c3-bda708eb48e9",
   "metadata": {},
   "outputs": [],
   "source": [
    "dataset = load_dataset(\"shawhin/ai-job-embedding-finetuning\")"
   ]
  },
  {
   "cell_type": "markdown",
   "id": "5821b19d-259e-403b-af39-2aa63fe5d9f6",
   "metadata": {},
   "source": [
    "### use it!"
   ]
  },
  {
   "cell_type": "code",
   "execution_count": 4,
   "id": "fbc9487b-1443-432c-8286-8676f59b93db",
   "metadata": {},
   "outputs": [
    {
     "name": "stdout",
     "output_type": "stream",
     "text": [
      "torch.Size([1, 84])\n"
     ]
    }
   ],
   "source": [
    "# new query\n",
    "query = \"data scientist 6 year experience, LLMs, credit risk, content marketing\"\n",
    "query_embedding = model.encode(query)\n",
    "\n",
    "# encode JDs\n",
    "jd_embeddings = model.encode(dataset[\"test\"][\"job_description_pos\"])\n",
    "\n",
    "# compute similarities\n",
    "similarities = model.similarity(query_embedding, jd_embeddings)\n",
    "print(similarities.shape)"
   ]
  },
  {
   "cell_type": "code",
   "execution_count": 5,
   "id": "573cec42-4a66-444d-b927-4dcb6a475b56",
   "metadata": {},
   "outputs": [
    {
     "data": {
      "text/plain": [
       "\"requirements/standardsTrains/coaches team members or peers and actively shares expertise with peersJob QualificationsBachelor's degree - preferably in related field of study such as finance, math/applied math, statistics/applied statistics, economicsProven insurance business knowledge - for example, understands economics of insurance, familiarity with personal lines ratemaking and rating plans, etc.Several years of experience working in personal or commercial lines of insuranceAptitude and strong interest in statistical modeling techniques such as linear regression, logistic regression, GLM, GAM, GBM, etc. - some modeling experience is helpful but not requiredStandard knowledge in the use of data sources and applications to conduct researchStrong technical aptitude, such as programming experience with Python, R, SAS, or SQL required.Working knowledge of insurance regulation and related business constraintsHas an understanding of current industry and professional standards/ environment to impact decisions and indicate requirementsCan analyze data and review analysis from others and identify and resolve basic data issuesIntermediate computer proficiency in Microsoft OfficePossesses working knowledge of policies and procedures in management or other technical fieldsStrong written and verbal communication skills including the ability to effectively collaborate with multi-disciplinary groups and all organizational levelsHigh level organizational and project management skills in order to handle multiple concurrent assignments in a timely manner and to monitor processes throughout a team or departmentStrong decision-making skillsWorks effectively in a team environment#LI-JB1SkillsCompensationCompensation offered for this role is $74,240.00 - 134,060.00 annually and is based on experience and qualifications.The candidate(s) offered this position will be required to submit to a background investigation.Joining our team isn't just a job - it's an opportunity. One that takes your skills and pushes them to the next level. One that encourages you to challenge the status quo. And one where you can impact the future for the greater good.You'll do all this in a flexible environment that embraces connection and belonging. And with the recognition of several inclusivity and diversity awards, we've proven that Allstate empowers everyone to lead, drive change and give back where they work and live.Good Hands. Greater Together.Allstate generally does not sponsor individuals for employment-based visas for this position.Effective July 1, 2014, under Indiana House Enrolled Act (HEA) 1242, it is against public policy of the State of Indiana and a discriminatory practice for an employer to discriminate against a prospective employee on the basis of status as a veteran by refusing to employ an applicant on the basis that they are a veteran of the armed forces of the United States, a member of the Indiana National Guard or a member of a reserve component.For jobs in San Francisco, please click 'here' for information regarding the San Francisco Fair Chance Ordinance.For jobs in Los Angeles, please click 'here' for information regarding the Los Angeles Fair Chance Initiative for Hiring Ordinance.To view the '\""
      ]
     },
     "execution_count": 5,
     "metadata": {},
     "output_type": "execute_result"
    }
   ],
   "source": [
    "# sort JDs based on similarity\n",
    "simiarities_argsorted = np.argsort(similarities.numpy(), axis=1)\n",
    "\n",
    "# return most similar job description\n",
    "dataset[\"test\"][\"job_description_pos\"][int(simiarities_argsorted[0][-1])]"
   ]
  },
  {
   "cell_type": "code",
   "execution_count": null,
   "id": "090fba8c-bfe4-4ae8-b1b6-894f8b76a995",
   "metadata": {},
   "outputs": [],
   "source": []
  }
 ],
 "metadata": {
  "kernelspec": {
   "display_name": "Python 3 (ipykernel)",
   "language": "python",
   "name": "python3"
  },
  "language_info": {
   "codemirror_mode": {
    "name": "ipython",
    "version": 3
   },
   "file_extension": ".py",
   "mimetype": "text/x-python",
   "name": "python",
   "nbconvert_exporter": "python",
   "pygments_lexer": "ipython3",
   "version": "3.12.8"
  }
 },
 "nbformat": 4,
 "nbformat_minor": 5
}
